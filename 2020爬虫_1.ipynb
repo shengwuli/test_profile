{
 "cells": [
  {
   "cell_type": "code",
   "execution_count": 7,
   "metadata": {},
   "outputs": [
    {
     "name": "stdout",
     "output_type": "stream",
     "text": [
      "https://www.python.org/jack=wuli\n"
     ]
    }
   ],
   "source": [
    "#拼接字符串\n",
    "import urllib.parse\n",
    "\n",
    "dicts={'jack':'wuli'}\n",
    "strs=urllib.parse.urlencode(dicts,encoding='utf-8')\n",
    "full_url=('https://www.python.org/{}'.format(strs))\n",
    "print(full_url)"
   ]
  },
  {
   "cell_type": "code",
   "execution_count": 15,
   "metadata": {},
   "outputs": [
    {
     "name": "stdout",
     "output_type": "stream",
     "text": [
      "200\n"
     ]
    }
   ],
   "source": [
    "import requests\n",
    "data={'python':'best'}\n",
    "response=requests.get('https://www.baidu.com/s',params=data)\n",
    "print(response.status_code)"
   ]
  },
  {
   "cell_type": "code",
   "execution_count": 22,
   "metadata": {},
   "outputs": [],
   "source": [
    "#下载视频测试\n",
    "import requests\n",
    "r=requests.get('http://t.cn/A6P9tcaO')\n",
    "with open('test.mp4','wb')as f:\n",
    "    f.write(r.content)"
   ]
  },
  {
   "cell_type": "code",
   "execution_count": 4,
   "metadata": {},
   "outputs": [
    {
     "name": "stdout",
     "output_type": "stream",
     "text": [
      "81588484\n"
     ]
    }
   ],
   "source": [
    "av=('av81588484')\n",
    "avs=av.strip('av')\n",
    "print(avs)"
   ]
  },
  {
   "cell_type": "code",
   "execution_count": 5,
   "metadata": {},
   "outputs": [
    {
     "data": {
      "text/plain": [
       "139610390"
      ]
     },
     "execution_count": 5,
     "metadata": {},
     "output_type": "execute_result"
    }
   ],
   "source": [
    "import requests\n",
    "import json\n",
    "\n",
    "def get_cid(av):\n",
    "    '''\n",
    "    :param av: B站av号\n",
    "    :return: 返回一个请求弹幕网页的cid\n",
    "    '''\n",
    "    url = 'https://api.bilibili.com/x/player/pagelist?aid={}&jsonp=jsonp'.format(av.strip('av'))\n",
    "    header = {'User-Agent': 'Mozilla/5.0 (Windows NT 10.0; Win64; x64) AppleWebKit/537.36 (KHTML, like Gecko) Chrome/79.0.3945.130 Safari/537.36'}\n",
    "    response = requests.get(url,headers=header)\n",
    "    res=response.text\n",
    "    dict_name = json.loads(res)\n",
    "    cid=dict_name['data'][0]['cid']\n",
    "    return cid\n",
    "\n",
    "\n",
    "\n",
    "\n",
    "\n",
    "get_cid('av81588484')"
   ]
  },
  {
   "cell_type": "code",
   "execution_count": 9,
   "metadata": {},
   "outputs": [],
   "source": [
    "import jieba"
   ]
  },
  {
   "cell_type": "code",
   "execution_count": 2,
   "metadata": {},
   "outputs": [],
   "source": [
    "datas=['li hua','jack']\n",
    "filename='test_write.txt'\n",
    "with open(filename,'a',encoding='utf-8')as f:\n",
    "    for data in datas:\n",
    "        f.write(data+'\\n'*2)"
   ]
  },
  {
   "cell_type": "code",
   "execution_count": 19,
   "metadata": {},
   "outputs": [],
   "source": [
    "items=[('1', 'http://p1.meituan.net/movie','霸王别姬', '\\n  主演: 张国荣,张丰,巩俐\\n','上映时间:1993-01-01(中国香港)','9.','6'),\\\n",
    "('2', 'http://po.meituan.net/movie','肖中克的救赎', '\\n  主演: 蒂姆·罗宾斯,摩根·弗里,勃·冈顿\\n','上映间:1994-10-14(美国)','9.','5'),\\\n",
    "('3', 'http://po.meituan.net/movie/fc9d78dd','这个杀手不太冷', '\\n  主演: 让·雷诺,加里·奥德，娜塔莉·波特曼\\n','上映时间:1994-09-14(法国)','9.','5')]"
   ]
  },
  {
   "cell_type": "code",
   "execution_count": 20,
   "metadata": {},
   "outputs": [
    {
     "name": "stdout",
     "output_type": "stream",
     "text": [
      "('1', 'http://p1.meituan.net/movie', '霸王别姬', '\\n  主演: 张国荣,张丰,巩俐\\n', '上映时间:1993-01-01(中国香港)', '9.', '6')\n"
     ]
    }
   ],
   "source": [
    "print(items[0])"
   ]
  },
  {
   "cell_type": "code",
   "execution_count": 1,
   "metadata": {},
   "outputs": [],
   "source": [
    "def tests():\n",
    "    items=[('1', 'http://p1.meituan.net/movie','霸王别姬', '\\n  主演: 张国荣,张丰,巩俐\\n','上映时间:1993-01-01(中国香港)','9.','6'),\\\n",
    "('2', 'http://po.meituan.net/movie','肖中克的救赎', '\\n  主演: 蒂姆·罗宾斯,摩根·弗里,勃·冈顿\\n','上映时间:1994-10-14(美国)','9.','5'),\\\n",
    "('3', 'http://po.meituan.net/movie/fc9d78dd','这个杀手不太冷', '\\n  主演: 让·雷诺,加里·奥德，娜塔莉·波特曼\\n','上映时间:1994-09-14(法国)','9.','5')]\n",
    "    for item in items:\n",
    "        yield{\n",
    "            'ranks':item[0],\n",
    "            'sites':item[1],\n",
    "            'title':item[2],\n",
    "            'stars':item[3].strip()[4:],\n",
    "            'time':item[4].strip()[5:],\n",
    "            'score':item[5]+item[6]\n",
    "            }"
   ]
  },
  {
   "cell_type": "code",
   "execution_count": 5,
   "metadata": {},
   "outputs": [
    {
     "name": "stdout",
     "output_type": "stream",
     "text": [
      "<class 'generator'>\n",
      "{'ranks': '1', 'sites': 'http://p1.meituan.net/movie', 'title': '霸王别姬', 'stars': '张国荣,张丰,巩俐', 'time': '1993-01-01(中国香港)', 'score': '9.6'}\n",
      "{'ranks': '2', 'sites': 'http://po.meituan.net/movie', 'title': '肖中克的救赎', 'stars': '蒂姆·罗宾斯,摩根·弗里,勃·冈顿', 'time': '1994-10-14(美国)', 'score': '9.5'}\n",
      "{'ranks': '3', 'sites': 'http://po.meituan.net/movie/fc9d78dd', 'title': '这个杀手不太冷', 'stars': '让·雷诺,加里·奥德，娜塔莉·波特曼', 'time': '1994-09-14(法国)', 'score': '9.5'}\n",
      "<class 'dict'>\n"
     ]
    }
   ],
   "source": [
    "results=tests()\n",
    "print(type(results))\n",
    "for result in results:\n",
    "    print(result)\n",
    "    \n",
    "\n",
    "print(type(result))"
   ]
  },
  {
   "cell_type": "markdown",
   "metadata": {},
   "source": [
    "import re\n",
    "import requests\n",
    "\n",
    "def get_one_page(url):\n",
    "    header={'User-Agent': 'Mozilla/5.0 (Windows NT 10.0; Win64; x64) AppleWebKit/537.36 (KHTML, like Gecko) Chrome/79.0.3945.130 Safari/537.36'}\n",
    "    resopnse=requests.get(url,headers=header)\n",
    "    html=resopnse.text\n",
    "    return html\n",
    "\n",
    "def main():\n",
    "    url='https://movie.douban.com/top250?start=0&filter='\n",
    "    result=get_one_page(url)\n",
    "    print(resulty)\n",
    "\n",
    "main()"
   ]
  },
  {
   "cell_type": "code",
   "execution_count": null,
   "metadata": {},
   "outputs": [],
   "source": [
    "import re\n",
    "import requests\n",
    "\n",
    "def get_one_page(url):\n",
    "    header={'User-Agent': 'Mozilla/5.0 (Windows NT 10.0; Win64; x64) AppleWebKit/537.36 (KHTML, like Gecko) Chrome/79.0.3945.130 Safari/537.36'}\n",
    "    resopnse=requests.get(url,headers=header)\n",
    "    html=resopnse.text\n",
    "    return html\n",
    "\n",
    "def parase_one_page(html):\n",
    "    pattern=re.compile('<div class=\"info\">.*?<span class=\"title\">(.*?)</span>.*?</a>',re.S)\n",
    "    results=re.findall(pattern,html)\n",
    "    return  results\n",
    "\n",
    "def main():\n",
    "    url = 'https://movie.douban.com/top250?start=0&filter='\n",
    "    html=get_one_page(url)\n",
    "    res=parase_one_page(html)\n",
    "    print(res)\n",
    "\n",
    "main()"
   ]
  },
  {
   "cell_type": "code",
   "execution_count": 4,
   "metadata": {},
   "outputs": [
    {
     "ename": "TypeError",
     "evalue": "expected string or bytes-like object",
     "output_type": "error",
     "traceback": [
      "\u001b[1;31m---------------------------------------------------------------------------\u001b[0m",
      "\u001b[1;31mTypeError\u001b[0m                                 Traceback (most recent call last)",
      "\u001b[1;32m<ipython-input-4-a109dcf058a1>\u001b[0m in \u001b[0;36m<module>\u001b[1;34m\u001b[0m\n\u001b[0;32m     25\u001b[0m     \u001b[0mjiexi\u001b[0m\u001b[1;33m(\u001b[0m\u001b[0mhtml\u001b[0m\u001b[1;33m)\u001b[0m\u001b[1;33m\u001b[0m\u001b[1;33m\u001b[0m\u001b[0m\n\u001b[0;32m     26\u001b[0m \u001b[1;33m\u001b[0m\u001b[0m\n\u001b[1;32m---> 27\u001b[1;33m \u001b[0mmain\u001b[0m\u001b[1;33m(\u001b[0m\u001b[1;33m)\u001b[0m\u001b[1;33m\u001b[0m\u001b[1;33m\u001b[0m\u001b[0m\n\u001b[0m\u001b[0;32m     28\u001b[0m \u001b[1;33m\u001b[0m\u001b[0m\n",
      "\u001b[1;32m<ipython-input-4-a109dcf058a1>\u001b[0m in \u001b[0;36mmain\u001b[1;34m()\u001b[0m\n\u001b[0;32m     23\u001b[0m     \u001b[0mheader\u001b[0m\u001b[1;33m=\u001b[0m\u001b[1;33m{\u001b[0m\u001b[1;34m'User-Agent'\u001b[0m\u001b[1;33m:\u001b[0m \u001b[1;34m'Mozilla/5.0 (Windows NT 10.0; Win64; x64) AppleWebKit/537.36 (KHTML, like Gecko) Chrome/79.0.3945.130 Safari/537.36'\u001b[0m\u001b[1;33m}\u001b[0m\u001b[1;33m\u001b[0m\u001b[1;33m\u001b[0m\u001b[0m\n\u001b[0;32m     24\u001b[0m     \u001b[0mhtml\u001b[0m\u001b[1;33m=\u001b[0m\u001b[0mtests\u001b[0m\u001b[1;33m(\u001b[0m\u001b[0murl\u001b[0m\u001b[1;33m)\u001b[0m\u001b[1;33m\u001b[0m\u001b[1;33m\u001b[0m\u001b[0m\n\u001b[1;32m---> 25\u001b[1;33m     \u001b[0mjiexi\u001b[0m\u001b[1;33m(\u001b[0m\u001b[0mhtml\u001b[0m\u001b[1;33m)\u001b[0m\u001b[1;33m\u001b[0m\u001b[1;33m\u001b[0m\u001b[0m\n\u001b[0m\u001b[0;32m     26\u001b[0m \u001b[1;33m\u001b[0m\u001b[0m\n\u001b[0;32m     27\u001b[0m \u001b[0mmain\u001b[0m\u001b[1;33m(\u001b[0m\u001b[1;33m)\u001b[0m\u001b[1;33m\u001b[0m\u001b[1;33m\u001b[0m\u001b[0m\n",
      "\u001b[1;32m<ipython-input-4-a109dcf058a1>\u001b[0m in \u001b[0;36mjiexi\u001b[1;34m(html)\u001b[0m\n\u001b[0;32m     16\u001b[0m \u001b[1;32mdef\u001b[0m \u001b[0mjiexi\u001b[0m\u001b[1;33m(\u001b[0m\u001b[0mhtml\u001b[0m\u001b[1;33m)\u001b[0m\u001b[1;33m:\u001b[0m\u001b[1;33m\u001b[0m\u001b[1;33m\u001b[0m\u001b[0m\n\u001b[0;32m     17\u001b[0m     \u001b[0mpattern\u001b[0m\u001b[1;33m=\u001b[0m\u001b[0mre\u001b[0m\u001b[1;33m.\u001b[0m\u001b[0mcompile\u001b[0m\u001b[1;33m(\u001b[0m\u001b[1;34m'<div class=\"info\">.*?<span class=\"title\">(.*?)</span>.*?</a>\"</p>'\u001b[0m\u001b[1;33m,\u001b[0m\u001b[0mre\u001b[0m\u001b[1;33m.\u001b[0m\u001b[0mS\u001b[0m\u001b[1;33m)\u001b[0m\u001b[1;33m\u001b[0m\u001b[1;33m\u001b[0m\u001b[0m\n\u001b[1;32m---> 18\u001b[1;33m     \u001b[0mresults\u001b[0m\u001b[1;33m=\u001b[0m\u001b[0mre\u001b[0m\u001b[1;33m.\u001b[0m\u001b[0mfindall\u001b[0m\u001b[1;33m(\u001b[0m\u001b[0mpattern\u001b[0m\u001b[1;33m,\u001b[0m\u001b[0mhtml\u001b[0m\u001b[1;33m)\u001b[0m\u001b[1;33m\u001b[0m\u001b[1;33m\u001b[0m\u001b[0m\n\u001b[0m\u001b[0;32m     19\u001b[0m     \u001b[1;32mreturn\u001b[0m \u001b[0mresults\u001b[0m\u001b[1;33m\u001b[0m\u001b[1;33m\u001b[0m\u001b[0m\n\u001b[0;32m     20\u001b[0m \u001b[1;33m\u001b[0m\u001b[0m\n",
      "\u001b[1;32m~\\Anaconda3\\lib\\re.py\u001b[0m in \u001b[0;36mfindall\u001b[1;34m(pattern, string, flags)\u001b[0m\n\u001b[0;32m    221\u001b[0m \u001b[1;33m\u001b[0m\u001b[0m\n\u001b[0;32m    222\u001b[0m     Empty matches are included in the result.\"\"\"\n\u001b[1;32m--> 223\u001b[1;33m     \u001b[1;32mreturn\u001b[0m \u001b[0m_compile\u001b[0m\u001b[1;33m(\u001b[0m\u001b[0mpattern\u001b[0m\u001b[1;33m,\u001b[0m \u001b[0mflags\u001b[0m\u001b[1;33m)\u001b[0m\u001b[1;33m.\u001b[0m\u001b[0mfindall\u001b[0m\u001b[1;33m(\u001b[0m\u001b[0mstring\u001b[0m\u001b[1;33m)\u001b[0m\u001b[1;33m\u001b[0m\u001b[1;33m\u001b[0m\u001b[0m\n\u001b[0m\u001b[0;32m    224\u001b[0m \u001b[1;33m\u001b[0m\u001b[0m\n\u001b[0;32m    225\u001b[0m \u001b[1;32mdef\u001b[0m \u001b[0mfinditer\u001b[0m\u001b[1;33m(\u001b[0m\u001b[0mpattern\u001b[0m\u001b[1;33m,\u001b[0m \u001b[0mstring\u001b[0m\u001b[1;33m,\u001b[0m \u001b[0mflags\u001b[0m\u001b[1;33m=\u001b[0m\u001b[1;36m0\u001b[0m\u001b[1;33m)\u001b[0m\u001b[1;33m:\u001b[0m\u001b[1;33m\u001b[0m\u001b[1;33m\u001b[0m\u001b[0m\n",
      "\u001b[1;31mTypeError\u001b[0m: expected string or bytes-like object"
     ]
    }
   ],
   "source": [
    "import re\n",
    "import requests\n",
    "\n",
    "def tests(url):\n",
    "    try:\n",
    "       \n",
    "        response=requests.get(url,headers=header)\n",
    "        if response.status_code == 200:\n",
    "            return response.text\n",
    "        else:\n",
    "            return None\n",
    "\n",
    "    except:\n",
    "        return None\n",
    "    \n",
    "def jiexi(html):\n",
    "    pattern=re.compile('<div class=\"info\">.*?<span class=\"title\">(.*?)</span>.*?</a>\"</p>',re.S)\n",
    "    results=re.findall(pattern,html)\n",
    "    return results\n",
    "\n",
    "def main():\n",
    "    url = 'https://movie.douban.com/top250?start=0&filter='\n",
    "    header={'User-Agent': 'Mozilla/5.0 (Windows NT 10.0; Win64; x64) AppleWebKit/537.36 (KHTML, like Gecko) Chrome/79.0.3945.130 Safari/537.36'}\n",
    "    html=tests(url)\n",
    "    jiexi(html)\n",
    "\n",
    "main()\n",
    "    "
   ]
  },
  {
   "cell_type": "code",
   "execution_count": null,
   "metadata": {},
   "outputs": [],
   "source": []
  }
 ],
 "metadata": {
  "kernelspec": {
   "display_name": "Python 3",
   "language": "python",
   "name": "python3"
  },
  "language_info": {
   "codemirror_mode": {
    "name": "ipython",
    "version": 3
   },
   "file_extension": ".py",
   "mimetype": "text/x-python",
   "name": "python",
   "nbconvert_exporter": "python",
   "pygments_lexer": "ipython3",
   "version": "3.7.3"
  }
 },
 "nbformat": 4,
 "nbformat_minor": 2
}
